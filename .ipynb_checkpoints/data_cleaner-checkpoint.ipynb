{
 "cells": [
  {
   "cell_type": "code",
   "execution_count": null,
   "id": "f0495f29-c8ee-45ef-841a-c5d7735925de",
   "metadata": {},
   "outputs": [],
   "source": [
    "import pandas as pd\n",
    "import numpy as np\n",
    "import matplotlib.pyplot as plt\n",
    "import seaborn as sns\n"
   ]
  },
  {
   "cell_type": "code",
   "execution_count": null,
   "id": "82e64f66-4d18-427c-9164-8611c90afc59",
   "metadata": {},
   "outputs": [],
   "source": [
    "life_data = pd.read_csv(\"data//Life Expectancy Data.csv\")"
   ]
  },
  {
   "cell_type": "code",
   "execution_count": null,
   "id": "baa1198d-3264-497b-b496-04374b2541e1",
   "metadata": {},
   "outputs": [],
   "source": [
    "print(life_data.info())\n",
    "print(life_data.describe())\n",
    "print(life_data.head())"
   ]
  },
  {
   "cell_type": "code",
   "execution_count": null,
   "id": "30a05153-baad-454c-815e-8a5f87938e14",
   "metadata": {},
   "outputs": [],
   "source": [
    "# Check for missing values\n",
    "missing_values = life_data.isnull().sum()\n",
    "print(missing_values[missing_values > 0])\n",
    "\n",
    "# Fill missing values with median or mean, or drop if necessary\n",
    "#life_data.fillna(life_data.median(), inplace=True)\n",
    "life_data.dropna()"
   ]
  },
  {
   "cell_type": "code",
   "execution_count": null,
   "id": "d42842af-201b-47ad-83a1-60b93b2b2054",
   "metadata": {},
   "outputs": [],
   "source": [
    "life_data = life_data.drop_duplicates()"
   ]
  },
  {
   "cell_type": "code",
   "execution_count": null,
   "id": "e1623768-88d5-4cbd-8a01-700ecd9cfc10",
   "metadata": {},
   "outputs": [],
   "source": [
    "# Example: Ensure 'Year' is an integer\n",
    "life_data['Year'] = life_data['Year'].astype(int)"
   ]
  },
  {
   "cell_type": "code",
   "execution_count": null,
   "id": "f64ad372-b145-4c05-8b4c-6fa50cc4858c",
   "metadata": {},
   "outputs": [],
   "source": [
    "df.to_csv('cleaned_life_expectancy_data.csv', index=False)"
   ]
  }
 ],
 "metadata": {
  "kernelspec": {
   "display_name": "Python 3 (ipykernel)",
   "language": "python",
   "name": "python3"
  },
  "language_info": {
   "codemirror_mode": {
    "name": "ipython",
    "version": 3
   },
   "file_extension": ".py",
   "mimetype": "text/x-python",
   "name": "python",
   "nbconvert_exporter": "python",
   "pygments_lexer": "ipython3",
   "version": "3.12.4"
  }
 },
 "nbformat": 4,
 "nbformat_minor": 5
}
